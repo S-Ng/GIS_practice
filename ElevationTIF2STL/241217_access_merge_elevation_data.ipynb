{
 "cells": [
  {
   "cell_type": "code",
   "execution_count": null,
   "metadata": {},
   "outputs": [],
   "source": [
    "import pandas as pd\n",
    "import xarray\n",
    "import rioxarray # to open and download remote raster data\n",
    "from rioxarray.merge import merge_arrays\n",
    "import numpy as np\n",
    "import warnings\n",
    "warnings.filterwarnings('ignore')"
   ]
  },
  {
   "cell_type": "code",
   "execution_count": null,
   "metadata": {},
   "outputs": [],
   "source": [
    "# Read file with all links (data from https://www.swisstopo.admin.ch/en/height-model-swissalti3d)\n",
    "TifCSV = r\"C:\\Users\\ngsim\\Downloads\\ch.swisstopo.swissalti3d-uB05v0Wd.csv\"\n",
    "Links = pd.read_csv(TifCSV, header = None)\n",
    "Links"
   ]
  },
  {
   "cell_type": "code",
   "execution_count": null,
   "metadata": {
    "scrolled": true
   },
   "outputs": [],
   "source": [
    "# Make lists with each tile (hard coded for current size of spreadsheet with 655 tiles). Lists are separated to keep ultimate merged file sizes smaller\n",
    "\n",
    "# Create empty lists\n",
    "TileList1 = []\n",
    "TileList2 = []\n",
    "TileList3 = []\n",
    "TileList4 = []\n",
    "TileList5 = []\n",
    "\n",
    "# Add each tile to one of the 5 lists\n",
    "\n",
    "links_per_list = len(Links)/5\n",
    "for i, link in enumerate(Links[0]):\n",
    "\n",
    "    NewTile = rioxarray.open_rasterio(link) # retrieve new tile from https links\n",
    "\n",
    "    if i < links_per_list+1:\n",
    "        TileList1.append(NewTile)\n",
    "    elif i < links_per_list*2+1:\n",
    "        TileList2.append(NewTile)\n",
    "    elif i < links_per_list*3+1:\n",
    "        TileList3.append(NewTile)\n",
    "    elif i < links_per_list*4+1:\n",
    "        TileList4.append(NewTile)\n",
    "    elif i < links_per_list*5+1:\n",
    "        TileList5.append(NewTile)\n",
    "\n",
    "    print(i)"
   ]
  },
  {
   "cell_type": "code",
   "execution_count": null,
   "metadata": {},
   "outputs": [],
   "source": [
    "# Merge all tiles in list and save the file\n",
    "MergedTiles1 = merge_arrays(TileList1)\n",
    "MergedTiles2 = merge_arrays(TileList2)\n",
    "MergedTiles3 = merge_arrays(TileList3)\n",
    "MergedTiles4 = merge_arrays(TileList4)\n",
    "MergedTiles5 = merge_arrays(TileList5)\n",
    "#MergedTiles5.rio.to_raster(r\"C:\\\\Users\\\\ngsim\\\\Downloads\\\\241217_MergedTiles5.tif\") # save geotiff"
   ]
  },
  {
   "cell_type": "code",
   "execution_count": null,
   "metadata": {},
   "outputs": [],
   "source": [
    "# Merge all the smaller merges into a big merge\n",
    "MergedTileList = [MergedTiles1, MergedTiles2, MergedTiles3, MergedTiles4, MergedTiles5]\n",
    "AllMergedTiles = merge_arrays(MergedTileList)\n",
    "#AllMergedTiles.rio.to_raster(r\"C:\\\\Users\\\\ngsim\\\\Downloads\\\\241217_AllMergedTiles.tif\") # save geotiff"
   ]
  }
 ],
 "metadata": {
  "kernelspec": {
   "display_name": "Python 3",
   "language": "python",
   "name": "python3"
  },
  "language_info": {
   "codemirror_mode": {
    "name": "ipython",
    "version": 3
   },
   "file_extension": ".py",
   "mimetype": "text/x-python",
   "name": "python",
   "nbconvert_exporter": "python",
   "pygments_lexer": "ipython3",
   "version": "3.8.5"
  }
 },
 "nbformat": 4,
 "nbformat_minor": 4
}
