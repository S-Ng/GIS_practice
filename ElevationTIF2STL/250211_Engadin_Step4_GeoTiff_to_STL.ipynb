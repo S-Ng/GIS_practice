{
 "cells": [
  {
   "cell_type": "markdown",
   "metadata": {},
   "source": [
    "Author: Simon Ng <br/> \n",
    "Created: 2024-12-19 <br/> \n",
    "Last edited: 2025-02-11 <br/><br/>\n",
    "This code is the 4th step in a project to 3D print a model of the Engadin valley in Switzerland as a Christmas gift to a friend who is skiing the Engadin Ski Marathon this year! The project has 5 steps: <br/>\n",
    "1. Select area of interest from an open source Swiss elevation dataset (https://www.swisstopo.admin.ch/en/height-model-swissalti3d). I used \"selection by polygon\" at 2.0m resolution to obtain a csv file with links to tiles covering the entire Engadin Ski Marathon and surrounding mountains. <br/>\n",
    "2. Merge linked GeoTiff tiles in exported csv file into one file <br/>\n",
    "3. Add geospatial features in QGIS, ArcGIS, etc such as trails, cities, etc. Note that additional features need to be represented as elevation data merged with the exported GeoTiff so they will be part of the eventual 3D print! Also a good time to resample the pixel resolution. 2 meter resolution won't show up for a reasonably scaled 3D print but WILL make processing times horrific. Something like 30 meter resolution is better. This is also the time to re-mask your area of interest since the swisstopo site exports blocky edges on diagonals. <br/>\n",
    "4. Convert edited GeoTiff to STL mesh for slicing and 3D printing (<<< that's what this code does!) \n",
    "5. Slice and 3D print it!"
   ]
  },
  {
   "cell_type": "code",
   "execution_count": 1,
   "metadata": {},
   "outputs": [
    {
     "name": "stderr",
     "output_type": "stream",
     "text": [
      "C:\\Users\\ngsim\\UserApps_SN\\Anaconda3\\lib\\site-packages\\pandas\\core\\computation\\expressions.py:20: UserWarning: Pandas requires version '2.7.3' or newer of 'numexpr' (version '2.7.1' currently installed).\n",
      "  from pandas.core.computation.check import NUMEXPR_INSTALLED\n"
     ]
    }
   ],
   "source": [
    "# Import packages\n",
    "import xarray\n",
    "import rioxarray # to open and download remote raster data\n",
    "from rioxarray.merge import merge_arrays\n",
    "import numpy as np\n",
    "from stl import mesh"
   ]
  },
  {
   "cell_type": "code",
   "execution_count": 2,
   "metadata": {},
   "outputs": [
    {
     "name": "stderr",
     "output_type": "stream",
     "text": [
      "C:\\Users\\ngsim\\UserApps_SN\\Anaconda3\\lib\\site-packages\\pyproj\\crs\\_cf1x8.py:514: UserWarning: angle from rectified to skew grid parameter lost in conversion to CF\n",
      "  warnings.warn(\n"
     ]
    },
    {
     "data": {
      "text/plain": [
       "(1, 1267, 1367)"
      ]
     },
     "execution_count": 2,
     "metadata": {},
     "output_type": "execute_result"
    }
   ],
   "source": [
    "# Load edited GeoTiff from step 3\n",
    "tif_path = r\"C:\\Users\\ngsim\\Documents\\Engadin\\241218_EngadinValley_30m_QGIS_processed.tif\" # GeoTiff exported from step 3\n",
    "MergedTiles = rioxarray.open_rasterio(tif_path) # open tif as xarray DataArray\n",
    "MergedTiles.shape # print DataArray shape"
   ]
  },
  {
   "cell_type": "markdown",
   "metadata": {},
   "source": [
    "Process GeoTiff image to be ready for STL mesh conversion"
   ]
  },
  {
   "cell_type": "code",
   "execution_count": 3,
   "metadata": {},
   "outputs": [
    {
     "name": "stdout",
     "output_type": "stream",
     "text": [
      "Base elevation is now set to 800 meters, with a maximum elevation of 3444 meters.\n",
      "With a pixel size of 30 and elevation scale factor of 2, the newly scaled minimum height value is 53 and maximum height value is 230 (now unitless).\n"
     ]
    }
   ],
   "source": [
    "# Convert xarray DataArray into numpy array for easier processing (don't need CRS anymore, just elevation pixel values)\n",
    "tif_array = MergedTiles.values[0] # -GPT  # make tif_array 2D since 3rd dimension isn't useful. ChatGPT failed to recognize the simplification of removing the 3rd unecessary dimension\n",
    "\n",
    "# Adjust base elevation value\n",
    "base_elevation = 800  # this value (meters) will determine how tall the 3D print is. (i.e. if the minimum elevation in the study area is 1500m, then a base elevation of 1000m would give 500m of 3D print (scaled to the print size of course) beneath that minimum elevation)\n",
    "tif_array_wBase = np.where(tif_array > base_elevation, tif_array, base_elevation)  # Replace excluded values with lowest desired model elevation\n",
    "print(f\"Base elevation is now set to {round(tif_array_wBase.min())} meters, with a maximum elevation of {round(tif_array_wBase.max())} meters.\")\n",
    "\n",
    "# Scale elevation z-data by pixel x-y dimensions\n",
    "pixel_size = 30 # tif pixel size in meters (this should match the pixel size in meters as exported in step 3)\n",
    "elevation_scale_factor = 2 # if you want to make the mountains look bigger than they really are for effect\n",
    "height_map = tif_array_wBase/pixel_size*elevation_scale_factor # scale height by pixel size (in meters)\n",
    "rows, cols = height_map.shape # -GPT Get the dimensions of the image\n",
    "print(f\"With a pixel size of {pixel_size} and elevation scale factor of {elevation_scale_factor}, the newly scaled minimum height value is {round(height_map.min())} and maximum height value is {round(height_map.max())} (now unitless).\")"
   ]
  },
  {
   "cell_type": "code",
   "execution_count": 4,
   "metadata": {},
   "outputs": [],
   "source": [
    "# Optional code to split map into 5 vertical pieces to reduce memory requirements\n",
    "\n",
    "split_map = False\n",
    "\n",
    "if split_map:\n",
    "    row_segments = round(rows/5) # number of rows in each map segment\n",
    "    map_segment1 = height_map[:row_segments] # slice out first set of rows\n",
    "    map_segment2 = height_map[row_segments:row_segments*2] # slice out second set of rows, etc\n",
    "    map_segment3 = height_map[row_segments*2:row_segments*3]\n",
    "    map_segment4 = height_map[row_segments*3:row_segments*4]\n",
    "    map_segment5 = height_map[row_segments*4:]\n",
    "    rows = row_segments # update rows for subsequent vertices and faces loops to run through each map segment instead of the entire map\n",
    "    height_map = map_segment1 # udpate height_map for subsequent loops with desired map segment to process\n",
    "    print(f\"Map segments rows, columns = {map_segment1.shape}\") # print the map segment rows and columns"
   ]
  },
  {
   "cell_type": "markdown",
   "metadata": {},
   "source": [
    "Convert processed tif into stl mesh, including creating a mesh to calculate only valid elevation datapoints"
   ]
  },
  {
   "cell_type": "code",
   "execution_count": 5,
   "metadata": {},
   "outputs": [],
   "source": [
    "def add_mask_edges(mask):\n",
    "        '''\n",
    "        add_mask_edges background explanation: \n",
    "        The \"mask\" crops the elevation data to only include real elevation data, getting rid of the extra pixels on each side arising \n",
    "        from the not perfect north-south-east-west orientation of the area of interest.\n",
    "        \n",
    "        To goal of this function is to add back one pixel on each edge of the real data so that the eventual stl mesh will include \"sides\" for 3D printing rather than just being the top elevation surface\n",
    "        The code was inspired and structured by ChatGPT, in particular the idea to use np.pad and then look through each pixel to construct a mask including edges.\n",
    "        However, ChatGPT's 2 attempts were difficult for me to understand and did not work as intended.\n",
    "        So, I modified ChatGPT's concept with my own method. I've attempted to mark where ChatGPT's code and comment contributions are with \"-GPT\". If there is a comment after # -GPT, it is my own.\n",
    "            \n",
    "         Parameters:\n",
    "            mask (numpy.ndarray): A boolean mask where True indicates valid pixels and False indicates excluded pixels. -GPT edited\n",
    "    \n",
    "         Returns:\n",
    "            numpy.ndarray: A boolean mask where True indicates valid pixels and pixels adjacent to valid pixels. -GPT edited'''\n",
    "        \n",
    "        print(\"Creating padded mask to generate sides for STL file...\")\n",
    "        \n",
    "        # Create a padded version of the mask to handle edge cases -GPT\n",
    "        padded_mask = np.pad(mask, pad_width=1, mode='constant', constant_values=False) #  -GPT # pads each dimension of the array with 1 row/column. i.e. (380, 594) becomes (382, 596)\n",
    "        #print(f\"Padded mask shape is {padded_mask.shape}\")\n",
    "        \n",
    "        # Initialize the new mask  -GPT\n",
    "        mask_plus_edges = np.zeros_like(mask, dtype=bool) # -GPT # has same size as original mask, all set to false \n",
    "        \n",
    "        # Check each pixel in original mask\n",
    "        for i in range(mask.shape[0]): # for rows\n",
    "            for j in range(mask.shape[1]): # and columns\n",
    "                \n",
    "                # Check all 8 surrounding pixels (and self-pixel) to see if the original mask includes any one of the pixels (i.e. =True)\n",
    "                for i_offset in [-1, 0, 1]: # -GPT   # look in rows\n",
    "                    for j_offset in [-1, 0, 1]: # -GPT   # and in columns\n",
    "                        \n",
    "                        # Get row and column indices for padded mask\n",
    "                        row = i + i_offset + 1 # +1 is required to account for the extra left/top column/row in the padded array\n",
    "                        col = j + j_offset + 1\n",
    "                        \n",
    "                        if padded_mask[row][col]: # if adjacent or central cell is true in mask (padded mask allows original mask edges to be evaluated without error)\n",
    "                            mask_plus_edges[i][j] = True # then central cell should be included in the new mask\n",
    "        \n",
    "        print(\"Padded mask complete\")   \n",
    "        \n",
    "        return mask_plus_edges"
   ]
  },
  {
   "cell_type": "code",
   "execution_count": 6,
   "metadata": {},
   "outputs": [
    {
     "name": "stdout",
     "output_type": "stream",
     "text": [
      "'no-elevation-data' value is 0.0\n",
      "Creating padded mask to generate sides for STL file...\n",
      "Padded mask complete\n"
     ]
    }
   ],
   "source": [
    "# Create mask to only process pixels of real elevation data\n",
    "exclude_value = tif_array.min() # -GPT # excluding the minimum value removes areas outside the desired mountainous region that are either assigned 0 or -9999 depending on how the tif was exported\n",
    "print(f\"'no-elevation-data' value is {exclude_value}\")\n",
    "mask_woEdges = tif_array != exclude_value  # -GPT # Create mask that is True where pixels have real elevation data\n",
    "mask = add_mask_edges(mask_woEdges) # add one column/row of True values around the original mask so that \"sides\" will be calculated for the stl file\n",
    "#tif_array *= mask  # -GPT   Apply mask to keep only valid regions. Applying the mask here doesn't actually do anything..."
   ]
  },
  {
   "cell_type": "code",
   "execution_count": 7,
   "metadata": {},
   "outputs": [
    {
     "name": "stdout",
     "output_type": "stream",
     "text": [
      "Creating vertices...\n",
      "Creating faces...\n",
      "Creating the mesh...\n",
      "STL saved to C:\\Users\\ngsim\\Documents\\Engadin\\250211_EngadinValley_30m.stl\n"
     ]
    }
   ],
   "source": [
    "# Generate mesh and export stl file (code mostly from ChatGPT, though of course I had to update prompts to get a code that would do exactly what I wanted)\n",
    "# I made edits where noted (-Simon edit) to improve processing time (changing vartices and faces arrays to int). Processing time was an issue before I reduced the pixel resolution. With the current 30m pixels, it doesn't really matter if the vertices and faces are stored as int or float\n",
    "\n",
    "# Create vertices (only for valid pixels)\n",
    "print(\"Creating vertices...\")  # -Simon edit\n",
    "\n",
    "vertices = []\n",
    "vertex_map = -np.ones((rows, cols), dtype=int)  # Map to track valid vertices\n",
    "vertex_index = 0\n",
    "\n",
    "for i in range(rows):\n",
    "    for j in range(cols):\n",
    "        if mask[i, j]:  # Only add vertices for valid pixels\n",
    "            vertices.append([i, j, height_map[i, j]])\n",
    "            vertex_map[i, j] = vertex_index\n",
    "            vertex_index += 1\n",
    "\n",
    "vertices = np.array(vertices).astype(int) # -Simon edit. Convert vertices list to numpy array as integer to reduce processing time\n",
    "\n",
    "\n",
    "# Create faces (only for valid grid cells)\n",
    "print(\"Creating faces...\")  # -Simon edit\n",
    "\n",
    "faces = []\n",
    "for i in range(rows - 1):\n",
    "    for j in range(cols - 1):\n",
    "        if mask[i, j] and mask[i, j + 1] and mask[i + 1, j]:  # Valid first triangle\n",
    "            top_left = vertex_map[i, j]\n",
    "            top_right = vertex_map[i, j + 1]\n",
    "            bottom_left = vertex_map[i + 1, j]\n",
    "            faces.append([top_left, bottom_left, top_right])\n",
    "\n",
    "        if mask[i + 1, j] and mask[i, j + 1] and mask[i + 1, j + 1]:  # Valid second triangle\n",
    "            top_right = vertex_map[i, j + 1]\n",
    "            bottom_left = vertex_map[i + 1, j]\n",
    "            bottom_right = vertex_map[i + 1, j + 1]\n",
    "            faces.append([top_right, bottom_left, bottom_right])\n",
    "\n",
    "faces = np.array(faces).astype(int) # -Simon edit. Convert faces list to numpy array as integer to reduce processing time\n",
    "\n",
    "# Create the mesh\n",
    "print(\"Creating the mesh...\")  # -Simon edit\n",
    "\n",
    "terrain_mesh = mesh.Mesh(np.zeros(faces.shape[0], dtype=mesh.Mesh.dtype))\n",
    "\n",
    "for i, face in enumerate(faces):\n",
    "    for j in range(3):\n",
    "        terrain_mesh.vectors[i][j] = vertices[face[j], :]\n",
    "        \n",
    "# Save as STL\n",
    "stl_path = r\"C:\\Users\\ngsim\\Documents\\Engadin\\250211_EngadinValley_30m.stl\"\n",
    "terrain_mesh.save(stl_path)\n",
    "print(f\"STL saved to {stl_path}\")"
   ]
  }
 ],
 "metadata": {
  "kernelspec": {
   "display_name": "Python 3",
   "language": "python",
   "name": "python3"
  },
  "language_info": {
   "codemirror_mode": {
    "name": "ipython",
    "version": 3
   },
   "file_extension": ".py",
   "mimetype": "text/x-python",
   "name": "python",
   "nbconvert_exporter": "python",
   "pygments_lexer": "ipython3",
   "version": "3.8.5"
  }
 },
 "nbformat": 4,
 "nbformat_minor": 4
}
