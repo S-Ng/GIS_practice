{
 "cells": [
  {
   "cell_type": "markdown",
   "metadata": {},
   "source": [
    "Author: Simon Ng <br/> Created: 2024-12-17 <br/> Last edited: 2025-02-10 <br/><br/>\n",
    "This code is the 2nd step in a project to 3D print a model of the Engadin valley in Switzerland as a Christmas gift to a friend who is skiing the Engadin Ski Marathon this year! The project has 5 steps: <br/>\n",
    "1. Select area of interest from an open source Swiss elevation dataset (https://www.swisstopo.admin.ch/en/height-model-swissalti3d). I used \"selection by polygon\" at 2.0m resolution to obtain a csv file with links to tiles covering the entire Engadin Ski Marathon and surrounding mountains. <br/>\n",
    "2. Merge linked GeoTiff tiles in exported csv file into one file (<<< that's what this code does!) <br/>\n",
    "3. Add geospatial features in QGIS, ArcGIS, etc such as trails, cities, etc. Note that additional features need to be represented as elevation data merged with the exported GeoTiff so they will be part of the eventual 3D print! Also a good time to resample the pixel resolution. 2 meter resolution won't show up for a reasonably scaled 3D print but WILL make processing times horrific. Something like 30 meter resolution is better. This is also the time to re-mask your area of interest since the swisstopo site exports blocky edges on diagonals. <br/>\n",
    "4. Convert edited GeoTiff to STL mesh for slicing and 3D printing\n",
    "5. Slice and 3D print it!"
   ]
  },
  {
   "cell_type": "code",
   "execution_count": 1,
   "metadata": {},
   "outputs": [
    {
     "name": "stderr",
     "output_type": "stream",
     "text": [
      "C:\\Users\\ngsim\\UserApps_SN\\Anaconda3\\lib\\site-packages\\pandas\\core\\computation\\expressions.py:20: UserWarning: Pandas requires version '2.7.3' or newer of 'numexpr' (version '2.7.1' currently installed).\n",
      "  from pandas.core.computation.check import NUMEXPR_INSTALLED\n"
     ]
    }
   ],
   "source": [
    "# Import packages\n",
    "import pandas as pd\n",
    "import xarray\n",
    "import rioxarray # to open and download remote raster data\n",
    "from rioxarray.merge import merge_arrays\n",
    "import numpy as np\n",
    "import warnings\n",
    "warnings.filterwarnings('ignore') # have a warning \"UserWarning: angle from rectified to skew grid parameter lost in conversion to CF\". Doesn't appear to affect final GeoTiff, so ignoring warning"
   ]
  },
  {
   "cell_type": "code",
   "execution_count": 2,
   "metadata": {},
   "outputs": [
    {
     "data": {
      "text/html": [
       "<div>\n",
       "<style scoped>\n",
       "    .dataframe tbody tr th:only-of-type {\n",
       "        vertical-align: middle;\n",
       "    }\n",
       "\n",
       "    .dataframe tbody tr th {\n",
       "        vertical-align: top;\n",
       "    }\n",
       "\n",
       "    .dataframe thead th {\n",
       "        text-align: right;\n",
       "    }\n",
       "</style>\n",
       "<table border=\"1\" class=\"dataframe\">\n",
       "  <thead>\n",
       "    <tr style=\"text-align: right;\">\n",
       "      <th></th>\n",
       "      <th>0</th>\n",
       "    </tr>\n",
       "  </thead>\n",
       "  <tbody>\n",
       "    <tr>\n",
       "      <th>0</th>\n",
       "      <td>https://data.geo.admin.ch/ch.swisstopo.swissal...</td>\n",
       "    </tr>\n",
       "    <tr>\n",
       "      <th>1</th>\n",
       "      <td>https://data.geo.admin.ch/ch.swisstopo.swissal...</td>\n",
       "    </tr>\n",
       "    <tr>\n",
       "      <th>2</th>\n",
       "      <td>https://data.geo.admin.ch/ch.swisstopo.swissal...</td>\n",
       "    </tr>\n",
       "    <tr>\n",
       "      <th>3</th>\n",
       "      <td>https://data.geo.admin.ch/ch.swisstopo.swissal...</td>\n",
       "    </tr>\n",
       "    <tr>\n",
       "      <th>4</th>\n",
       "      <td>https://data.geo.admin.ch/ch.swisstopo.swissal...</td>\n",
       "    </tr>\n",
       "    <tr>\n",
       "      <th>...</th>\n",
       "      <td>...</td>\n",
       "    </tr>\n",
       "    <tr>\n",
       "      <th>650</th>\n",
       "      <td>https://data.geo.admin.ch/ch.swisstopo.swissal...</td>\n",
       "    </tr>\n",
       "    <tr>\n",
       "      <th>651</th>\n",
       "      <td>https://data.geo.admin.ch/ch.swisstopo.swissal...</td>\n",
       "    </tr>\n",
       "    <tr>\n",
       "      <th>652</th>\n",
       "      <td>https://data.geo.admin.ch/ch.swisstopo.swissal...</td>\n",
       "    </tr>\n",
       "    <tr>\n",
       "      <th>653</th>\n",
       "      <td>https://data.geo.admin.ch/ch.swisstopo.swissal...</td>\n",
       "    </tr>\n",
       "    <tr>\n",
       "      <th>654</th>\n",
       "      <td>https://data.geo.admin.ch/ch.swisstopo.swissal...</td>\n",
       "    </tr>\n",
       "  </tbody>\n",
       "</table>\n",
       "<p>655 rows × 1 columns</p>\n",
       "</div>"
      ],
      "text/plain": [
       "                                                     0\n",
       "0    https://data.geo.admin.ch/ch.swisstopo.swissal...\n",
       "1    https://data.geo.admin.ch/ch.swisstopo.swissal...\n",
       "2    https://data.geo.admin.ch/ch.swisstopo.swissal...\n",
       "3    https://data.geo.admin.ch/ch.swisstopo.swissal...\n",
       "4    https://data.geo.admin.ch/ch.swisstopo.swissal...\n",
       "..                                                 ...\n",
       "650  https://data.geo.admin.ch/ch.swisstopo.swissal...\n",
       "651  https://data.geo.admin.ch/ch.swisstopo.swissal...\n",
       "652  https://data.geo.admin.ch/ch.swisstopo.swissal...\n",
       "653  https://data.geo.admin.ch/ch.swisstopo.swissal...\n",
       "654  https://data.geo.admin.ch/ch.swisstopo.swissal...\n",
       "\n",
       "[655 rows x 1 columns]"
      ]
     },
     "execution_count": 2,
     "metadata": {},
     "output_type": "execute_result"
    }
   ],
   "source": [
    "# Read file with GeoTiff links (data from https://www.swisstopo.admin.ch/en/height-model-swissalti3d)\n",
    "TifCSV = r\"C:\\Users\\ngsim\\Documents\\Engadin\\ch.swisstopo.swissalti3d-kxgyFAfD.csv\"\n",
    "Links = pd.read_csv(TifCSV, header = None)\n",
    "Links"
   ]
  },
  {
   "cell_type": "code",
   "execution_count": 3,
   "metadata": {},
   "outputs": [],
   "source": [
    "def merge_tiles(Links, first_tile_index = 0, last_tile_index = len(Links), save_to = \"\"):\n",
    "    '''\n",
    "    merge_tiles opens all GeoTiff tiles linked in the csv and merges them into one GeoTiff\n",
    "    Inputs: links to GeoTiff tiles as pandas dataframe, optional inputs for which tiles to merge (in case there are issues with processing speed). last_tile_index is non-inclusive\n",
    "    Returns: merged GeoTiff of all tiles within indices provided\n",
    "    '''\n",
    "    \n",
    "    # Create empty list to store tiles\n",
    "    TileList = []\n",
    "    \n",
    "    # Open tiles and add them to list\n",
    "    print(f\"Adding tiles {first_tile_index}-{last_tile_index} to list...\")\n",
    "    \n",
    "    for i, link in enumerate(Links[first_tile_index:last_tile_index][0]): # loop through tiles within first/last tile indices\n",
    "        \n",
    "        NewTile = rioxarray.open_rasterio(link) # retrieve new tile from https links\n",
    "        TileList.append(NewTile) # add tile to list\n",
    "        #print(f\"Tile {i+first_tile_index} added to list\")   # tiles add very fast. This seems like an unnecessary user update\n",
    "        \n",
    "    # Merge tiles\n",
    "    print(\"Merging tiles...\")\n",
    "    merged_tiles = merge_arrays(TileList)\n",
    "    print(\"Tiles merged\")\n",
    "    \n",
    "    # Save merged GeoTiff (optional)\n",
    "    if save_to != \"\":\n",
    "        merged_tiles.rio.to_raster(save_to) # save geotiff\n",
    "        print(f\"Saved merged GeoTiff to {save_to}\")\n",
    "        \n",
    "    return merged_tiles"
   ]
  },
  {
   "cell_type": "code",
   "execution_count": 4,
   "metadata": {
    "scrolled": false
   },
   "outputs": [
    {
     "name": "stdout",
     "output_type": "stream",
     "text": [
      "Adding tiles 0-100 to list...\n",
      "Merging tiles...\n",
      "Tiles merged\n",
      "Saved merged GeoTiff to C:\\Users\\ngsim\\Documents\\Engadin\\250211_MergedTiles_0_100.tif\n"
     ]
    }
   ],
   "source": [
    "# Use merge_tiles function to actually merge tiles\n",
    "# Whether to just run merge_tiles once on all tiles and save the GeoTiff or run it in batches depends on processing time and how well GIS software handles the output file size\n",
    "\n",
    "# Example merging all tiles at once and saving\n",
    "#merged_tiles = merge_tiles(Links, save_to = r\"C:\\Users\\ngsim\\Documents\\Engadin\\250211_MergedTiles_655.tif\")\n",
    "\n",
    "# Example of merging the tiles in batches\n",
    "merged_tiles1 = merge_tiles(Links, first_tile_index = 0, last_tile_index = 100, save_to = r\"C:\\Users\\ngsim\\Documents\\Engadin\\250211_MergedTiles_0_100.tif\")  # only saving this one as a test with a small subset of data\n",
    "#merged_tiles2 = merge_tiles(Links, first_tile_index = 100, last_tile_index = 200)\n",
    "#merged_tiles3 = merge_tiles(Links, first_tile_index = 200)'''"
   ]
  },
  {
   "cell_type": "code",
   "execution_count": 5,
   "metadata": {},
   "outputs": [],
   "source": [
    "# Optional merge all the smaller merges into a big merge\n",
    "#MergedTileList = [MergedTiles1, MergedTiles2, MergedTiles3]\n",
    "#AllMergedTiles = merge_arrays(MergedTileList)\n",
    "#AllMergedTiles.rio.to_raster(r\"C:\\\\Users\\\\ngsim\\\\Downloads\\\\241217_AllMergedTiles.tif\") # save geotiff"
   ]
  }
 ],
 "metadata": {
  "kernelspec": {
   "display_name": "Python 3",
   "language": "python",
   "name": "python3"
  },
  "language_info": {
   "codemirror_mode": {
    "name": "ipython",
    "version": 3
   },
   "file_extension": ".py",
   "mimetype": "text/x-python",
   "name": "python",
   "nbconvert_exporter": "python",
   "pygments_lexer": "ipython3",
   "version": "3.8.5"
  }
 },
 "nbformat": 4,
 "nbformat_minor": 4
}
