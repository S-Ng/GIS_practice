{
 "cells": [
  {
   "cell_type": "code",
   "execution_count": 36,
   "metadata": {},
   "outputs": [],
   "source": [
    "import xarray\n",
    "import rioxarray # to open and download remote raster data\n",
    "from rioxarray.merge import merge_arrays\n",
    "import numpy as np\n",
    "from stl import mesh"
   ]
  },
  {
   "cell_type": "code",
   "execution_count": 37,
   "metadata": {},
   "outputs": [
    {
     "name": "stderr",
     "output_type": "stream",
     "text": [
      "C:\\Users\\ngsim\\UserApps_SN\\Anaconda3\\lib\\site-packages\\pyproj\\crs\\_cf1x8.py:514: UserWarning: angle from rectified to skew grid parameter lost in conversion to CF\n",
      "  warnings.warn(\n"
     ]
    },
    {
     "data": {
      "text/plain": [
       "(1, 1267, 1367)"
      ]
     },
     "execution_count": 37,
     "metadata": {},
     "output_type": "execute_result"
    }
   ],
   "source": [
    "# Load merged tiles\n",
    "tif_path = r\"C:\\Users\\ngsim\\Downloads\\241218_30m_SingleSkiTrack_Cities1900.tif\"\n",
    "MergedTiles = rioxarray.open_rasterio(tif_path) # open tif as xarray DataArray\n",
    "MergedTiles.shape # print DataArray shape"
   ]
  },
  {
   "cell_type": "code",
   "execution_count": 38,
   "metadata": {},
   "outputs": [],
   "source": [
    "def add_mask_edges(mask):\n",
    "        '''\n",
    "        Code inspired by ChatGPT, but with a different ultimate method to find edges by looping through every point\n",
    "        \n",
    "        Update mask to include points adjacent to non-excluded points.\n",
    "    \n",
    "        Parameters:\n",
    "            mask (numpy.ndarray): A boolean mask where True indicates valid points and False indicates excluded points.\n",
    "    \n",
    "        Returns:\n",
    "            numpy.ndarray: A boolean mask where True indicates points adjacent to valid points.'''\n",
    "        \n",
    "        # Create a padded version of the mask to handle edge cases\n",
    "        padded_mask = np.pad(mask, pad_width=1, mode='constant', constant_values=False) # pads each dimension of the array with 1 row/column. i.e. (1, 380, 594) becomes (3, 382, 596)\n",
    "        print(f\"Padded mask shape is {padded_mask.shape}\")\n",
    "        \n",
    "        # Initialize the new mask\n",
    "        mask_plus_edges = np.zeros_like(mask, dtype=bool) # has same size as original mask, all set to false\n",
    "        \n",
    "        # Check each point in mask\n",
    "        for i in range(mask.shape[1]): # for rows\n",
    "            for j in range(mask.shape[2]): # and columns\n",
    "                \n",
    "                # check in all directions to see if there is a True value for mask\n",
    "                for i_offset in [-1, 0, 1]:\n",
    "                    for j_offset in [-1, 0, 1]:\n",
    "                        \n",
    "                        row = i + i_offset + 1 # +1 is required to account for the extra left/top column/row in the padded array\n",
    "                        col = j + j_offset + 1\n",
    "                        \n",
    "                        if padded_mask[1][row][col]: # if adjacent or central cell is true in mask (padded mask allows original mask edges to be evaluated without error)\n",
    "                            mask_plus_edges[0][i][j] = True # then central cell should be included in the new mask\n",
    "                            \n",
    "        return mask_plus_edges"
   ]
  },
  {
   "cell_type": "code",
   "execution_count": 39,
   "metadata": {},
   "outputs": [
    {
     "name": "stdout",
     "output_type": "stream",
     "text": [
      "Padded mask shape is (3, 1269, 1369)\n"
     ]
    },
    {
     "data": {
      "text/plain": [
       "1000.0"
      ]
     },
     "execution_count": 39,
     "metadata": {},
     "output_type": "execute_result"
    }
   ],
   "source": [
    "# Process tif image\n",
    "image = MergedTiles.values # convert xarray DataArray into numpy array\n",
    "\n",
    "# Mask out the flat areas with the exclude_value (not sure if the mask is working properly)\n",
    "exclude_value = image.min() # excluding the minimum value removes areas outside the desired mountainous region that are either assigned 0 or -9999 depending on how the tif was exported\n",
    "mask = image != exclude_value  # True where values are valid\n",
    "mask = add_mask_edges(mask) # function to add one column/row of True values around the original mask so that sides can be calculated for the stl file\n",
    "\n",
    "valid_image = np.where(image > 1000, image, 1000)  # Replace excluded values with base model elevation\n",
    "valid_image.min() # print "
   ]
  },
  {
   "cell_type": "code",
   "execution_count": 40,
   "metadata": {},
   "outputs": [
    {
     "name": "stdout",
     "output_type": "stream",
     "text": [
      "0.0\n",
      "229.61441\n"
     ]
    }
   ],
   "source": [
    "# Normalize pixel values to a height range\n",
    "pixel_size = 15 # tif pixel size in meters\n",
    "height_map = valid_image/pixel_size # scale height by pixel size (in meters)\n",
    "height_map *= mask  # Apply mask to keep only valid regions\n",
    "rows, cols = height_map[0].shape # Get the dimensions of the image\n",
    "mask = mask[0] # reduce mask array to 2D\n",
    "height_map = height_map[0]  # reduce height_map array to 2D\n",
    "print(height_map.min())\n",
    "print(height_map.max())"
   ]
  },
  {
   "cell_type": "code",
   "execution_count": 10,
   "metadata": {},
   "outputs": [],
   "source": [
    "# optional code to split map into 5 vertical pieces to reduce memory requirements\n",
    "\n",
    "split_map = False\n",
    "\n",
    "if split_map:\n",
    "    row_segments = round(rows/5) # number of rows in each map segment\n",
    "    map_segment1 = height_map[:row_segments] # slice out first set of rows\n",
    "    map_segment2 = height_map[row_segments:row_segments*2] # slice out second set of rows, etc\n",
    "    map_segment3 = height_map[row_segments*2:row_segments*3]\n",
    "    map_segment4 = height_map[row_segments*3:row_segments*4]\n",
    "    map_segment5 = height_map[row_segments*4:]\n",
    "    rows = row_segments # update rows for subsequent vertices and faces loops to run through each map segment instead of the entire map\n",
    "    height_map = map_segment1 # udpate height_map for subsequent loops with desired map segment to process\n",
    "    map_segment1.shape # print the map segment rows and columns"
   ]
  },
  {
   "cell_type": "code",
   "execution_count": 41,
   "metadata": {},
   "outputs": [
    {
     "name": "stdout",
     "output_type": "stream",
     "text": [
      "Vertices created\n",
      "Faces created\n",
      "Mesh created\n",
      "STL saved to C:\\Users\\ngsim\\Downloads\\241219_30m_sides.stl\n"
     ]
    }
   ],
   "source": [
    "# Generate mesh and export stl file (code from ChatGPT with minor edits to improve processing (changing vartices and faces arrays to int))\n",
    "\n",
    "# Create vertices (only for valid points)\n",
    "vertices = []\n",
    "vertex_map = -np.ones((rows, cols), dtype=int)  # Map to track valid vertices\n",
    "vertex_index = 0\n",
    "\n",
    "for i in range(rows):\n",
    "    for j in range(cols):\n",
    "        if mask[i, j]:  # Only add vertices for valid points\n",
    "            vertices.append([i, j, height_map[i, j]])\n",
    "            vertex_map[i, j] = vertex_index\n",
    "            vertex_index += 1\n",
    "\n",
    "vertices = np.array(vertices).astype(int) # convert vertices list to numpy array as integer to reduce processing time\n",
    "print(\"Vertices created\")\n",
    "\n",
    "\n",
    "# Create faces (only for valid grid cells)\n",
    "faces = []\n",
    "for i in range(rows - 1):\n",
    "    for j in range(cols - 1):\n",
    "        if mask[i, j] and mask[i, j + 1] and mask[i + 1, j]:  # Valid first triangle\n",
    "            top_left = vertex_map[i, j]\n",
    "            top_right = vertex_map[i, j + 1]\n",
    "            bottom_left = vertex_map[i + 1, j]\n",
    "            faces.append([top_left, bottom_left, top_right])\n",
    "\n",
    "        if mask[i + 1, j] and mask[i, j + 1] and mask[i + 1, j + 1]:  # Valid second triangle\n",
    "            top_right = vertex_map[i, j + 1]\n",
    "            bottom_left = vertex_map[i + 1, j]\n",
    "            bottom_right = vertex_map[i + 1, j + 1]\n",
    "            faces.append([top_right, bottom_left, bottom_right])\n",
    "\n",
    "faces = np.array(faces).astype(int) # convert faces list to numpy array as integer to reduce processing time\n",
    "print(\"Faces created\")\n",
    "\n",
    "\n",
    "# Create the mesh\n",
    "terrain_mesh = mesh.Mesh(np.zeros(faces.shape[0], dtype=mesh.Mesh.dtype))\n",
    "\n",
    "for i, face in enumerate(faces):\n",
    "\n",
    "    # Print percent complete (the large number of print statements filled up memory)\n",
    "    #print(i/len(faces)*100)\n",
    "\n",
    "    for j in range(3):\n",
    "        terrain_mesh.vectors[i][j] = vertices[face[j], :]\n",
    "print(\"Mesh created\")\n",
    "        \n",
    "    \n",
    "# Save as STL\n",
    "stl_path = r\"C:\\Users\\ngsim\\Downloads\\241219_30m_sides.stl\"\n",
    "terrain_mesh.save(stl_path)\n",
    "print(f\"STL saved to {stl_path}\")"
   ]
  }
 ],
 "metadata": {
  "kernelspec": {
   "display_name": "Python 3",
   "language": "python",
   "name": "python3"
  },
  "language_info": {
   "codemirror_mode": {
    "name": "ipython",
    "version": 3
   },
   "file_extension": ".py",
   "mimetype": "text/x-python",
   "name": "python",
   "nbconvert_exporter": "python",
   "pygments_lexer": "ipython3",
   "version": "3.8.5"
  }
 },
 "nbformat": 4,
 "nbformat_minor": 4
}
